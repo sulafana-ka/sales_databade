{
 "cells": [
  {
   "cell_type": "code",
   "execution_count": 3,
   "id": "8aeae046-52ff-4c46-b838-63bab77fb6dd",
   "metadata": {},
   "outputs": [
    {
     "name": "stdout",
     "output_type": "stream",
     "text": [
      "Database 'sales_data.db' connected successfully.\n"
     ]
    }
   ],
   "source": [
    "import sqlite3\n",
    "\n",
    "# createthe SQLite database file\n",
    "#'sales_data.db' is the name of the file to be created.\n",
    "conn = sqlite3.connect(\"sales_data.db\")\n",
    "c = conn.cursor()\n",
    "print(\"Database 'sales_data.db' connected successfully.\")"
   ]
  },
  {
   "cell_type": "code",
   "execution_count": 2,
   "id": "a6511021-13f2-4b14-bc56-71044d79c8d5",
   "metadata": {},
   "outputs": [
    {
     "name": "stdout",
     "output_type": "stream",
     "text": [
      "Table 'sales' created or already exists.\n"
     ]
    }
   ],
   "source": [
    "# Create the sales table with columns for product, quantity, and price.\n",
    "c.execute('''\n",
    "    CREATE TABLE IF NOT EXISTS sales (\n",
    "        id INTEGER PRIMARY KEY,\n",
    "        product TEXT,\n",
    "        quantity INTEGER,\n",
    "        price REAL\n",
    "    )\n",
    "''')\n",
    "print(\"Table 'sales' created or already exists.\")"
   ]
  },
  {
   "cell_type": "code",
   "execution_count": 3,
   "id": "0b47c012-e903-4eb2-9eee-176ce87c9b38",
   "metadata": {},
   "outputs": [
    {
     "name": "stdout",
     "output_type": "stream",
     "text": [
      "Sample data inserted and connection closed.\n"
     ]
    }
   ],
   "source": [
    "# Sample data: (product, quantity, price)\n",
    "sample_data = [\n",
    "    ('Laptop', 2, 1200.00),\n",
    "    ('Monitor', 5, 300.00),\n",
    "    ('Laptop', 3, 1200.00),\n",
    "    ('Keyboard', 10, 75.00),\n",
    "    ('Monitor', 1, 300.00)\n",
    "]\n",
    "\n",
    "# Insert the data into the sales table\n",
    "c.executemany(\"INSERT INTO sales (product, quantity, price) VALUES (?, ?, ?)\", sample_data)\n",
    "\n",
    "# Save the changes (commit) and close the initial connection\n",
    "conn.commit()\n",
    "conn.close()\n",
    "print(\"Sample data inserted and connection closed.\")"
   ]
  },
  {
   "cell_type": "code",
   "execution_count": 4,
   "id": "f82914b8-663c-44fa-915c-611706f3d841",
   "metadata": {},
   "outputs": [
    {
     "name": "stdout",
     "output_type": "stream",
     "text": [
      "Table 'sales' reset and ready.\n"
     ]
    }
   ],
   "source": [
    "# Drop the old table to ensure a clean start\n",
    "c.execute(\"DROP TABLE IF EXISTS sales\")\n",
    "\n",
    "# Create the sales table\n",
    "c.execute('''\n",
    "    CREATE TABLE IF NOT EXISTS sales (\n",
    "        id INTEGER PRIMARY KEY,\n",
    "        product TEXT,\n",
    "        quantity INTEGER,\n",
    "        price REAL\n",
    "    )\n",
    "''')\n",
    "print(\"Table 'sales' reset and ready.\")"
   ]
  },
  {
   "cell_type": "code",
   "execution_count": 5,
   "id": "eaa63509-aab9-4795-8890-c82b99235c00",
   "metadata": {},
   "outputs": [
    {
     "name": "stdout",
     "output_type": "stream",
     "text": [
      "**Successfully inserted 12 records and connection closed.**\n"
     ]
    }
   ],
   "source": [
    "# New sample data with 12 rows: (product, quantity, price)\n",
    "sample_data = [\n",
    "    ('Laptop', 2, 1200.00),\n",
    "    ('Monitor', 5, 300.00),\n",
    "    ('Laptop', 3, 1200.00),\n",
    "    ('Keyboard', 10, 75.00),\n",
    "    ('Monitor', 1, 300.00),\n",
    "    ('Mouse', 15, 25.00),        # New Data\n",
    "    ('Keyboard', 5, 75.00),       # New Data\n",
    "    ('Laptop', 1, 1200.00),      # New Data\n",
    "    ('Mouse', 8, 25.00),         # New Data\n",
    "    ('Monitor', 4, 300.00),       # New Data\n",
    "    ('Webcam', 7, 50.00),        # New Product\n",
    "    ('Webcam', 2, 50.00)         # New Data\n",
    "]\n",
    "\n",
    "# Insert the new data\n",
    "c.executemany(\"INSERT INTO sales (product, quantity, price) VALUES (?, ?, ?)\", sample_data)\n",
    "\n",
    "# Save the changes (commit) and close the connection\n",
    "conn.commit()\n",
    "conn.close()\n",
    "print(f\"**Successfully inserted {len(sample_data)} records and connection closed.**\")"
   ]
  },
  {
   "cell_type": "code",
   "execution_count": 6,
   "id": "c5d3860a-2545-47c5-94f4-8dfaeefe9da7",
   "metadata": {},
   "outputs": [
    {
     "name": "stdout",
     "output_type": "stream",
     "text": [
      "\n",
      "--- Sales Summary Table (Updated) ---\n",
      "    product  total_qty  revenue\n",
      "0  Keyboard         15   1125.0\n",
      "1    Laptop          6   7200.0\n",
      "2   Monitor         10   3000.0\n",
      "3     Mouse         23    575.0\n",
      "4    Webcam          9    450.0\n"
     ]
    }
   ],
   "source": [
    "import pandas as pd\n",
    "import sqlite3\n",
    "# Reconnect to the database file\n",
    "conn = sqlite3.connect(\"sales_data.db\")\n",
    "\n",
    "# The SQL query remains the same, it will now process all 12 rows\n",
    "query = \"\"\"\n",
    "SELECT\n",
    "    product,\n",
    "    SUM(quantity) AS total_qty,\n",
    "    SUM(quantity * price) AS revenue\n",
    "FROM\n",
    "    sales\n",
    "GROUP BY\n",
    "    product\n",
    "\"\"\"\n",
    "df = pd.read_sql_query(query, conn)\n",
    "conn.close()\n",
    "\n",
    "print(\"\\n--- Sales Summary Table (Updated) ---\")\n",
    "print(df)"
   ]
  },
  {
   "cell_type": "code",
   "execution_count": 8,
   "id": "cde16735-2709-4542-a9fe-a63b0e44fdef",
   "metadata": {},
   "outputs": [
    {
     "name": "stdout",
     "output_type": "stream",
     "text": [
      "Chart created and saved as sales_chart.png.\n"
     ]
    },
    {
     "data": {
      "image/png": "[encoded data removed]",
      "text/plain": [
       "<Figure size 640x480 with 1 Axes>"
      ]
     },
     "metadata": {},
     "output_type": "display_data"
    }
   ],
   "source": [
    "import matplotlib.pyplot as plt\n",
    "\n",
    "# 1. Plot the chart (creates the figure in memory)\n",
    "df.plot(\n",
    "    kind='bar',\n",
    "    x='product',\n",
    "    y='revenue',\n",
    "    title='Total Revenue by Product',\n",
    "    legend=False,\n",
    "    color='teal'\n",
    ")\n",
    "\n",
    "# Add labels and format the plot\n",
    "plt.ylabel('Total Revenue ($)')\n",
    "plt.xlabel('Product')\n",
    "plt.xticks(rotation=0)\n",
    "plt.tight_layout()\n",
    "\n",
    "# 2. SAVE the chart to the file first!\n",
    "plt.savefig(\"sales_chart.png\")\n",
    "print(\"Chart created and saved as sales_chart.png.\")\n",
    "\n",
    "# 3. Then, display the chart (optional, but good for verification)\n",
    "plt.show()"
   ]
  },
  {
   "cell_type": "code",
   "execution_count": null,
   "id": "5b33bac0-1a39-4491-bd21-e15589a46099",
   "metadata": {},
   "outputs": [],
   "source": []
  }
 ],
 "metadata": {
  "kernelspec": {
   "display_name": "Python 3 (ipykernel)",
   "language": "python",
   "name": "python3"
  },
  "language_info": {
   "codemirror_mode": {
    "name": "ipython",
    "version": 3
   },
   "file_extension": ".py",
   "mimetype": "text/x-python",
   "name": "python",
   "nbconvert_exporter": "python",
   "pygments_lexer": "ipython3",
   "version": "3.13.3"
  }
 },
 "nbformat": 4,
 "nbformat_minor": 5
}
